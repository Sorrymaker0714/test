{
 "cells": [
  {
   "cell_type": "code",
   "execution_count": 11,
   "id": "c081c6ae-4e42-4011-8cf7-a87f5c1f3cc2",
   "metadata": {},
   "outputs": [
    {
     "name": "stdout",
     "output_type": "stream",
     "text": [
      "Canonical Correlations: [0.6207894352038877, 0.4946498167125937]\n",
      "\n",
      "Standardized Coefficients for X:\n",
      "[[ 0.67549159 -0.18697397]\n",
      " [ 0.1364265  -0.04131951]\n",
      " [-0.02873823  0.78138689]\n",
      " [ 0.4068809   0.22912107]\n",
      " [ 0.5540905   0.03012205]\n",
      " [-0.07873741  0.40707732]\n",
      " [-0.16275543 -0.2282434 ]\n",
      " [-0.13789773 -0.28558215]]\n",
      "\n",
      "Standardized Coefficients for Y:\n",
      "[[ 0.7967089   0.60436324]\n",
      " [-0.60436324  0.7967089 ]]\n",
      "\n",
      "Significance Tests:\n",
      "Canonical Correlation 1: Chi-Square = 11.4386, p-value = 0.7816\n",
      "Canonical Correlation 2: Chi-Square = 18.0330, p-value = 0.0118\n"
     ]
    }
   ],
   "source": [
    "import pandas as pd\n",
    "import numpy as np\n",
    "from sklearn.cross_decomposition import CCA\n",
    "from scipy.stats import chi2\n",
    "\n",
    "# 读取数据\n",
    "data = pd.read_csv(\"table7_1.txt\", sep=\"\\t\")\n",
    "\n",
    "# 提取 (y1, y2) 和 (x1, x2, ..., x8)\n",
    "Y = data[[\"y1\", \"y2\"]]\n",
    "X = data[[\"x1\", \"x2\", \"x3\", \"x4\", \"x5\", \"x6\", \"x7\", \"x8\"]]\n",
    "\n",
    "# (a) 计算典型相关系数\n",
    "cca = CCA(n_components=2)\n",
    "cca.fit(X, Y)\n",
    "X_c, Y_c = cca.transform(X, Y)\n",
    "\n",
    "# 输出典型相关系数\n",
    "canonical_correlations = [np.corrcoef(X_c[:, i], Y_c[:, i])[0, 1] for i in range(2)]\n",
    "print(\"Canonical Correlations:\", canonical_correlations)\n",
    "\n",
    "# (b) 计算典型变量的标准化系数\n",
    "x_weights = cca.x_weights_\n",
    "y_weights = cca.y_weights_\n",
    "print(\"\\nStandardized Coefficients for X:\")\n",
    "print(x_weights)\n",
    "print(\"\\nStandardized Coefficients for Y:\")\n",
    "print(y_weights)\n",
    "\n",
    "# (c) 测试每个典型相关系数的显著性\n",
    "n, p, q = X.shape[0], X.shape[1], Y.shape[1]  # 样本数、X维度、Y维度\n",
    "min_dim = min(p, q)\n",
    "wilks_lambdas = np.cumprod([1 - corr**2 for corr in canonical_correlations])\n",
    "\n",
    "print(\"\\nSignificance Tests:\")\n",
    "for i, wilks_lambda in enumerate(wilks_lambdas):\n",
    "    df = (p - i) * (q - i)\n",
    "    chi_square = -(n - 1 - (p + q + 1) / 2) * np.log(wilks_lambda)\n",
    "    p_value = 1 - chi2.cdf(chi_square, df)\n",
    "    print(f\"Canonical Correlation {i + 1}: Chi-Square = {chi_square:.4f}, p-value = {p_value:.4f}\")\n"
   ]
  },
  {
   "cell_type": "code",
   "execution_count": null,
   "id": "3c583372-dba2-41bf-90a4-fceeb52284cc",
   "metadata": {},
   "outputs": [],
   "source": []
  }
 ],
 "metadata": {
  "kernelspec": {
   "display_name": "Python 3 (ipykernel)",
   "language": "python",
   "name": "python3"
  },
  "language_info": {
   "codemirror_mode": {
    "name": "ipython",
    "version": 3
   },
   "file_extension": ".py",
   "mimetype": "text/x-python",
   "name": "python",
   "nbconvert_exporter": "python",
   "pygments_lexer": "ipython3",
   "version": "3.12.4"
  }
 },
 "nbformat": 4,
 "nbformat_minor": 5
}
